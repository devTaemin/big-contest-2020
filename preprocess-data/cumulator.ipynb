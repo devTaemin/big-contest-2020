{
 "cells": [
  {
   "cell_type": "code",
   "execution_count": 1,
   "metadata": {},
   "outputs": [],
   "source": [
    "import pandas as pd\n",
    "import numpy as np\n",
    "import os"
   ]
  },
  {
   "cell_type": "code",
   "execution_count": 2,
   "metadata": {},
   "outputs": [],
   "source": [
    "year=[2016, 2017, 2018, 2019, 2020]\n",
    "team=['OB', 'SS', 'HT', 'LT', 'WO', 'NC', 'SK', 'LG', 'KT', 'HH']"
   ]
  },
  {
   "cell_type": "code",
   "execution_count": 3,
   "metadata": {},
   "outputs": [],
   "source": [
    "csv_file=pd.read_csv('2017_normal\\\\bigcon_2017_HH.csv')\n",
    "columns=csv_file.columns"
   ]
  },
  {
   "cell_type": "code",
   "execution_count": 4,
   "metadata": {},
   "outputs": [
    {
     "data": {
      "text/plain": [
       "Index(['Unnamed: 0', 'G_ID', 'GDAY_DS', 'T_ID', 'VS_T_ID', 'HEADER_NO',\n",
       "       'TB_SC', 'p_CG_CK', 'p_WLS', 'p_HOLD', 'p_INN2', 'p_BF', 'p_PA', 'p_AB',\n",
       "       'p_HIT', 'p_H2', 'p_H3', 'p_HR', 'p_SB', 'p_CS', 'p_SH', 'p_SF', 'p_BB',\n",
       "       'p_IB', 'p_HP', 'p_KK', 'p_GD', 'p_WP', 'p_BK', 'p_ERR', 'p_R', 'p_ER',\n",
       "       'p_P_WHIP_RT', 'p_P2_WHIP_RT', 'p_CB_WHIP_RT', 'h_PA', 'h_AB', 'h_RBI',\n",
       "       'h_RUN', 'h_HIT', 'h_H2', 'h_H3', 'h_HR', 'h_SB', 'h_CS', 'h_SH',\n",
       "       'h_SF', 'h_BB', 'h_IB', 'h_HP', 'h_KK', 'h_GD', 'h_ERR', 'h_LOB',\n",
       "       'h_P_HRA_RT', 'h_P_AB_CN', 'h_P_HIT_CN'],\n",
       "      dtype='object')"
      ]
     },
     "execution_count": 4,
     "metadata": {},
     "output_type": "execute_result"
    }
   ],
   "source": [
    "columns"
   ]
  },
  {
   "cell_type": "code",
   "execution_count": 5,
   "metadata": {},
   "outputs": [],
   "source": [
    "#columns=columns[7:].to_list()\n",
    "#columns.remove('WLS')\n",
    "#columns.remove('H_A')\n",
    "#columns"
   ]
  },
  {
   "cell_type": "code",
   "execution_count": 6,
   "metadata": {},
   "outputs": [],
   "source": [
    "def avg(_list, to_add, idx):\n",
    "    return ((_list+to_add)/idx, (_list+to_add))"
   ]
  },
  {
   "cell_type": "code",
   "execution_count": 7,
   "metadata": {},
   "outputs": [],
   "source": [
    "def exp_mv_avg(_list, to_add, idx, alpha=0.2):\n",
    "    if(idx!=1):\n",
    "        return ((alpha*to_add+(1-alpha)*_list), (alpha*to_add+(1-alpha)*_list))\n",
    "    else:\n",
    "        return (to_add, to_add)"
   ]
  },
  {
   "cell_type": "code",
   "execution_count": 8,
   "metadata": {},
   "outputs": [],
   "source": [
    "def cumulator(path, file, func):\n",
    "    org_col=['Unnamed: 0', 'G_ID', 'GDAY_DS', 'T_ID', 'VS_T_ID', 'HEADER_NO',\n",
    "       'TB_SC', 'WHIP', 'LOB', 'ERA', 'FIP', 'H_9', 'K_9', 'BB_9', 'HR_9',\n",
    "       'oAVG', 'oSLG', 'oOBP', 'P_WHIP_RT', 'P2_WHIP_RT', 'CB_WHIP_RT', 'AVG',\n",
    "       'OBP', 'SLG', 'OPS', 'RC', 'GPA', 'BA', 'SECA', 'TA', 'XR', 'ISO',\n",
    "       'wOBA', 'P_HRA_RT', 'DER', 'PF', 'H_A', 'WLS', 'PITCHER_INNING',\n",
    "       'PITCHER_ER', 'HITTER_AB', 'HITTER_HIT']\n",
    "    columns=['WHIP', 'LOB', 'ERA', 'FIP', 'H_9', 'K_9', 'BB_9', 'HR_9', 'oAVG', 'oSLG', 'oOBP', 'P_WHIP_RT', 'P2_WHIP_RT', 'CB_WHIP_RT',\n",
    "             'AVG', 'OBP', 'SLG', 'OPS', 'RC', 'GPA', 'BA', 'SECA', 'TA', 'XR', 'ISO', 'wOBA', 'P_HRA_RT', 'DER', 'PF', 'PITCHER_INNING', 'PITCHER_ER', 'HITTER_AB', 'HITTER_HIT']\n",
    "    year=[2016, 2017, 2018, 2019, 2020]\n",
    "    team=['OB', 'SS', 'HT', 'LT', 'WO', 'NC', 'SK', 'LG', 'KT', 'HH']\n",
    "    if (os.path.isdir(os.getcwd()+\"\\\\cumulate\")==False):\n",
    "        os.mkdir('cumulate')\n",
    "    for y in year:\n",
    "        for t in team:\n",
    "            data=pd.read_csv(str(y)+path+\"\\\\\"+file+str(y)+\"_\"+str(t)+\".csv\")\n",
    "            df=pd.DataFrame(columns=columns)\n",
    "            cum=np.zeros(33)\n",
    "            avg_row=np.zeros(33)\n",
    "            for idx in data.index:\n",
    "                row=pd.DataFrame(data[idx:idx+1], columns=org_col)\n",
    "                row=row.drop(columns=org_col[:7]+['WLS','H_A'])\n",
    "                row=np.array(row.values)\n",
    "                (avg_row,cum)=func(cum, row, idx+1)\n",
    "                row = pd.DataFrame(avg_row, columns=columns)\n",
    "    \n",
    "                df=df.append(row,ignore_index=True)\n",
    "            for i in org_col[1:7]+['WLS', 'H_A']:\n",
    "                df[i]=data[i]\n",
    "            df=df[org_col[1:]]\n",
    "            if (os.path.isdir(os.getcwd()+\"\\\\cumulate\\\\\"+str(y))==False):\n",
    "                os.mkdir('cumulate\\\\'+str(y))\n",
    "            df.to_csv(\"cumulate\\\\\"+str(y)+\"\\\\cumulate_\"+str(y)+\"_\"+str(t)+\".csv\")"
   ]
  },
  {
   "cell_type": "code",
   "execution_count": 9,
   "metadata": {},
   "outputs": [],
   "source": [
    "#cumulator('_convert','convert_bigcon_', avg)"
   ]
  },
  {
   "cell_type": "code",
   "execution_count": 10,
   "metadata": {},
   "outputs": [],
   "source": [
    "#cumulator('_convert','convert_bigcon_', exp_mv_avg)"
   ]
  },
  {
   "cell_type": "code",
   "execution_count": 11,
   "metadata": {},
   "outputs": [],
   "source": [
    "def normal_cumulator(path, file, func):\n",
    "    normal_col=['G_ID', 'GDAY_DS', 'T_ID', 'VS_T_ID', 'HEADER_NO',\n",
    "       'TB_SC', 'p_CG_CK', 'p_WLS', 'p_HOLD', 'p_INN2', 'p_BF', 'p_PA', 'p_AB',\n",
    "       'p_HIT', 'p_H2', 'p_H3', 'p_HR', 'p_SB', 'p_CS', 'p_SH', 'p_SF', 'p_BB',\n",
    "       'p_IB', 'p_HP', 'p_KK', 'p_GD', 'p_WP', 'p_BK', 'p_ERR', 'p_R', 'p_ER',\n",
    "       'p_P_WHIP_RT', 'p_P2_WHIP_RT', 'p_CB_WHIP_RT', 'h_PA', 'h_AB', 'h_RBI',\n",
    "       'h_RUN', 'h_HIT', 'h_H2', 'h_H3', 'h_HR', 'h_SB', 'h_CS', 'h_SH',\n",
    "       'h_SF', 'h_BB', 'h_IB', 'h_HP', 'h_KK', 'h_GD', 'h_ERR', 'h_LOB',\n",
    "       'h_P_HRA_RT', 'h_P_AB_CN', 'h_P_HIT_CN']\n",
    "    \n",
    "    year=[2016, 2017, 2018, 2019, 2020]\n",
    "    team=['OB', 'SS', 'HT', 'LT', 'WO', 'NC', 'SK', 'LG', 'KT', 'HH']\n",
    "    if (os.path.isdir(os.getcwd()+\"\\\\normal_cumulate\")==False):\n",
    "        os.mkdir('normal_cumulate')\n",
    "    for y in year:\n",
    "        for t in team:\n",
    "            data=pd.read_csv(str(y)+path+\"\\\\\"+file+str(y)+\"_\"+str(t)+\".csv\")\n",
    "            data.drop(columns=['Unnamed: 0'])\n",
    "            df=pd.DataFrame(columns=normal_col[8:])\n",
    "            cum=np.zeros(len(normal_col[8:]))\n",
    "            for idx in data.index:\n",
    "                row=pd.DataFrame(data[idx:idx+1], columns=normal_col)\n",
    "                row=row.drop(columns=normal_col[:8])\n",
    "                row=np.array(row.values)\n",
    "                cum+=row[0]\n",
    "                row = pd.DataFrame([cum], columns=normal_col[8:])\n",
    "    \n",
    "                df=df.append(row,ignore_index=True)\n",
    "            for i in normal_col[:8]:\n",
    "                df[i]=data[i]\n",
    "            df=df[normal_col]\n",
    "            if (os.path.isdir(os.getcwd()+\"\\\\normal_cumulate\\\\\"+str(y))==False):\n",
    "                os.mkdir('normal_cumulate\\\\'+str(y))\n",
    "            df.to_csv(\"normal_cumulate\\\\\"+str(y)+\"\\\\normal_cumulate\"+str(y)+\"_\"+str(t)+\".csv\")"
   ]
  },
  {
   "cell_type": "code",
   "execution_count": 15,
   "metadata": {},
   "outputs": [],
   "source": [
    "normal_cumulator('_normal','bigcon_', avg)"
   ]
  },
  {
   "cell_type": "code",
   "execution_count": 23,
   "metadata": {},
   "outputs": [],
   "source": [
    "def normal_exp_cumulator(path, file, func):\n",
    "    normal_col=['G_ID', 'GDAY_DS', 'T_ID', 'VS_T_ID', 'HEADER_NO',\n",
    "       'TB_SC', 'p_CG_CK', 'p_WLS', 'p_HOLD', 'p_INN2', 'p_BF', 'p_PA', 'p_AB',\n",
    "       'p_HIT', 'p_H2', 'p_H3', 'p_HR', 'p_SB', 'p_CS', 'p_SH', 'p_SF', 'p_BB',\n",
    "       'p_IB', 'p_HP', 'p_KK', 'p_GD', 'p_WP', 'p_BK', 'p_ERR', 'p_R', 'p_ER',\n",
    "       'p_P_WHIP_RT', 'p_P2_WHIP_RT', 'p_CB_WHIP_RT', 'h_PA', 'h_AB', 'h_RBI',\n",
    "       'h_RUN', 'h_HIT', 'h_H2', 'h_H3', 'h_HR', 'h_SB', 'h_CS', 'h_SH',\n",
    "       'h_SF', 'h_BB', 'h_IB', 'h_HP', 'h_KK', 'h_GD', 'h_ERR', 'h_LOB',\n",
    "       'h_P_HRA_RT', 'h_P_AB_CN', 'h_P_HIT_CN']\n",
    "    \n",
    "    year=[2016, 2017, 2018, 2019, 2020]\n",
    "    team=['OB', 'SS', 'HT', 'LT', 'WO', 'NC', 'SK', 'LG', 'KT', 'HH']\n",
    "    if (os.path.isdir(os.getcwd()+\"\\\\normal_exp_cumulate\")==False):\n",
    "        os.mkdir('normal_exp_cumulate')\n",
    "    for y in year:\n",
    "        for t in team:\n",
    "            data=pd.read_csv(str(y)+path+\"\\\\\"+file+str(y)+\"_\"+str(t)+\".csv\")\n",
    "            data.drop(columns=['Unnamed: 0'])\n",
    "            df=pd.DataFrame(columns=normal_col[8:])\n",
    "            cum=np.zeros(len(normal_col[8:]))\n",
    "            count = 1\n",
    "            for idx in data.index:\n",
    "                row=pd.DataFrame(data[idx:idx+1], columns=normal_col)\n",
    "                row=row.drop(columns=normal_col[:8])\n",
    "                row=np.array(row.values)\n",
    "                temp=np.zeros(len(normal_col[8:]))\n",
    "                if(count == 1):\n",
    "                    temp += row[0]\n",
    "                    cum += row[0]\n",
    "                    count+=1\n",
    "                else:\n",
    "                    temp = cum * 0.9 + row[0]  # 배수 변환 <=====================================================\n",
    "                    cum += row[0]\n",
    "                   \n",
    "                    \n",
    "                row = pd.DataFrame([temp], columns=normal_col[8:])\n",
    "               \n",
    "                df=df.append(row,ignore_index=True)\n",
    "            for i in normal_col[:8]:\n",
    "                df[i]=data[i]\n",
    "            df=df[normal_col]\n",
    "            if (os.path.isdir(os.getcwd()+\"\\\\normal_exp_cumulate\\\\\"+str(y))==False):\n",
    "                os.mkdir('normal_exp_cumulate\\\\'+str(y))\n",
    "            df.to_csv(\"normal_exp_cumulate\\\\\"+str(y)+\"\\\\normal_exp_cumulate\"+str(y)+\"_\"+str(t)+\".csv\")"
   ]
  },
  {
   "cell_type": "code",
   "execution_count": 24,
   "metadata": {},
   "outputs": [],
   "source": [
    "normal_exp_cumulator('_normal','bigcon_', exp_mv_avg)"
   ]
  },
  {
   "cell_type": "code",
   "execution_count": null,
   "metadata": {},
   "outputs": [],
   "source": []
  }
 ],
 "metadata": {
  "kernelspec": {
   "display_name": "Python 3",
   "language": "python",
   "name": "python3"
  },
  "language_info": {
   "codemirror_mode": {
    "name": "ipython",
    "version": 3
   },
   "file_extension": ".py",
   "mimetype": "text/x-python",
   "name": "python",
   "nbconvert_exporter": "python",
   "pygments_lexer": "ipython3",
   "version": "3.7.7"
  }
 },
 "nbformat": 4,
 "nbformat_minor": 2
}
